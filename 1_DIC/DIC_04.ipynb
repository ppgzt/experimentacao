{
 "cells": [
  {
   "cell_type": "markdown",
   "id": "61abd494-b26c-437a-954b-da36247f9990",
   "metadata": {},
   "source": [
    "# Delineamento Inteiramento Casualizado - DIC\n",
    "\n",
    "Aula 02 - Exemplo 04\n",
    "\n",
    "__OBJETIVO__\n",
    "\n",
    "..."
   ]
  },
  {
   "cell_type": "code",
   "execution_count": null,
   "id": "f32cf1bb-9b10-488b-ab87-9091c97d7844",
   "metadata": {},
   "outputs": [],
   "source": [
    "##1 – Abra o seu arquivo de Excel, selecione os dados que deseja copiar e copie os dados (Ctrl + C).\n",
    "##2 – Execute o código abaixo para importar os dados copiados no Excel.\n",
    "dados <- read.table(file = \"clipboard\", sep = \"\\t\", header=TRUE)\n",
    "dados"
   ]
  },
  {
   "cell_type": "code",
   "execution_count": null,
   "id": "7b4554f0-f3af-490d-aee3-50e37d524104",
   "metadata": {},
   "outputs": [],
   "source": [
    "head(dados)# imprime in�cio dos dados"
   ]
  },
  {
   "cell_type": "code",
   "execution_count": null,
   "id": "921a1199-5a98-4266-a3c3-c1c38ffdca6d",
   "metadata": {},
   "outputs": [],
   "source": [
    "str(dados)#estrutura do objeto"
   ]
  },
  {
   "cell_type": "code",
   "execution_count": null,
   "id": "96adb3b9-852c-4748-a3ca-c79bc9ba97d4",
   "metadata": {},
   "outputs": [],
   "source": [
    "attach(dados) \n",
    "mean(Y)"
   ]
  },
  {
   "cell_type": "code",
   "execution_count": null,
   "id": "058d4768-cff7-4157-8075-ce0672a6795f",
   "metadata": {},
   "outputs": [],
   "source": [
    "modelo<-aov(dados$PESO~dados$TRAT) #fazendo a ANOVA\n",
    "anova(modelo) #exibe o quadro da ANOVA"
   ]
  },
  {
   "cell_type": "code",
   "execution_count": null,
   "id": "ae725241-c817-4163-af79-504a09f43105",
   "metadata": {},
   "outputs": [],
   "source": [
    "coef(modelo)#Estimativas dos Efeitos Principais e do Intercepto"
   ]
  },
  {
   "cell_type": "code",
   "execution_count": null,
   "id": "ac7652e9-4025-44b7-923f-dcd442849e5a",
   "metadata": {},
   "outputs": [],
   "source": [
    "plot(modelo) #exibe gr�ficos da anova"
   ]
  },
  {
   "cell_type": "code",
   "execution_count": null,
   "id": "0010cece-4a05-4bd4-9b72-ad54e992fd93",
   "metadata": {},
   "outputs": [],
   "source": [
    "par(mfrow = c(2, 2))\n",
    "plot(modelo); layout(1)"
   ]
  },
  {
   "cell_type": "code",
   "execution_count": null,
   "id": "65deb8fe-d40a-4258-aedc-e7e0b428bc15",
   "metadata": {},
   "outputs": [],
   "source": [
    "residuos<-resid(modelo) #calcula os res�duos"
   ]
  },
  {
   "cell_type": "code",
   "execution_count": null,
   "id": "b25c2272-f767-47dd-a433-fa76616f7a39",
   "metadata": {},
   "outputs": [],
   "source": [
    "shapiro.test(residuos) #teste de normalidade Shapiro-wilk"
   ]
  },
  {
   "cell_type": "code",
   "execution_count": null,
   "id": "51cbb58d-e651-4498-bd49-6fad87bc8f14",
   "metadata": {},
   "outputs": [],
   "source": [
    "bartlett.test(residuos~dados$TRAT)#teste de homogeneidade de vari�ncias entre TRAT    "
   ]
  },
  {
   "cell_type": "code",
   "execution_count": null,
   "id": "d1ad1254-1b5e-4945-874e-c187bbf30b7b",
   "metadata": {},
   "outputs": [],
   "source": [
    "tapply(residuos,dados$TRAT,var) #exibe vari�ncias por trat"
   ]
  },
  {
   "cell_type": "code",
   "execution_count": null,
   "id": "79e66aea-f90b-4552-a593-cce6d76e235c",
   "metadata": {},
   "outputs": [],
   "source": [
    "tapply(dados$PESO,dados$TRAT,mean) #exibe m�dias por trat"
   ]
  },
  {
   "cell_type": "code",
   "execution_count": null,
   "id": "66dddeb4-0dd3-43f6-96db-455b19d7e8f3",
   "metadata": {},
   "outputs": [],
   "source": [
    "teste<-TukeyHSD(modelo);teste #executa o teste de Tukey"
   ]
  },
  {
   "cell_type": "code",
   "execution_count": null,
   "id": "8029b76b-6e96-4da8-9c88-5a43d4bafd26",
   "metadata": {},
   "outputs": [],
   "source": [
    "plot(teste) #Gr�fico de compra��o de m�dias e intervalos de confian�a ajustados"
   ]
  }
 ],
 "metadata": {
  "kernelspec": {
   "display_name": "R",
   "language": "R",
   "name": "ir"
  },
  "language_info": {
   "codemirror_mode": "r",
   "file_extension": ".r",
   "mimetype": "text/x-r-source",
   "name": "R",
   "pygments_lexer": "r",
   "version": "4.2.0"
  }
 },
 "nbformat": 4,
 "nbformat_minor": 5
}
