{
 "cells": [
  {
   "cell_type": "markdown",
   "id": "ec4b52b9-6988-45be-aeb7-51121e6d0738",
   "metadata": {},
   "source": [
    "# Delineamento Inteiramento Casualizado - DIC\n",
    "\n",
    "Aula - Exemplo 03\n",
    "\n",
    "__OBJETIVO__\n",
    "\n",
    "Demonstrar como realizar as principais atividades da etapa **análise dos dados** de um experimento, assim como em **DIC_02**. No entanto, vamos utilizar o pacote **ExpDes.pt** para fazer a ANOVA e a inspeção dos resíduos."
   ]
  },
  {
   "cell_type": "code",
   "execution_count": 2,
   "id": "0d054cc9-aebe-4bb4-b85a-bf4a10699e56",
   "metadata": {},
   "outputs": [
    {
     "name": "stderr",
     "output_type": "stream",
     "text": [
      "Updating HTML index of packages in '.Library'\n",
      "\n",
      "Making 'packages.html' ...\n",
      " done\n",
      "\n"
     ]
    }
   ],
   "source": [
    "install.packages(\"ExpDes.pt\", dependencies = TRUE)\n",
    "library(ExpDes.pt)"
   ]
  },
  {
   "cell_type": "code",
   "execution_count": 3,
   "id": "4ee9e068-1ca8-4d41-94da-ba8c3cf9f689",
   "metadata": {},
   "outputs": [
    {
     "data": {
      "text/html": [
       "<table class=\"dataframe\">\n",
       "<caption>A data.frame: 24 × 3</caption>\n",
       "<thead>\n",
       "\t<tr><th scope=col>TRAT</th><th scope=col>REP</th><th scope=col>PESO</th></tr>\n",
       "\t<tr><th scope=col>&lt;chr&gt;</th><th scope=col>&lt;int&gt;</th><th scope=col>&lt;int&gt;</th></tr>\n",
       "</thead>\n",
       "<tbody>\n",
       "\t<tr><td>A</td><td>1</td><td>54</td></tr>\n",
       "\t<tr><td>A</td><td>2</td><td>40</td></tr>\n",
       "\t<tr><td>A</td><td>3</td><td>51</td></tr>\n",
       "\t<tr><td>A</td><td>4</td><td>36</td></tr>\n",
       "\t<tr><td>A</td><td>5</td><td>50</td></tr>\n",
       "\t<tr><td>A</td><td>6</td><td>48</td></tr>\n",
       "\t<tr><td>B</td><td>1</td><td>60</td></tr>\n",
       "\t<tr><td>B</td><td>2</td><td>55</td></tr>\n",
       "\t<tr><td>B</td><td>3</td><td>66</td></tr>\n",
       "\t<tr><td>B</td><td>4</td><td>61</td></tr>\n",
       "\t<tr><td>B</td><td>5</td><td>54</td></tr>\n",
       "\t<tr><td>B</td><td>6</td><td>61</td></tr>\n",
       "\t<tr><td>C</td><td>1</td><td>59</td></tr>\n",
       "\t<tr><td>C</td><td>2</td><td>47</td></tr>\n",
       "\t<tr><td>C</td><td>3</td><td>44</td></tr>\n",
       "\t<tr><td>C</td><td>4</td><td>49</td></tr>\n",
       "\t<tr><td>C</td><td>5</td><td>62</td></tr>\n",
       "\t<tr><td>C</td><td>6</td><td>60</td></tr>\n",
       "\t<tr><td>D</td><td>1</td><td>45</td></tr>\n",
       "\t<tr><td>D</td><td>2</td><td>33</td></tr>\n",
       "\t<tr><td>D</td><td>3</td><td>34</td></tr>\n",
       "\t<tr><td>D</td><td>4</td><td>48</td></tr>\n",
       "\t<tr><td>D</td><td>5</td><td>42</td></tr>\n",
       "\t<tr><td>D</td><td>6</td><td>44</td></tr>\n",
       "</tbody>\n",
       "</table>\n"
      ],
      "text/latex": [
       "A data.frame: 24 × 3\n",
       "\\begin{tabular}{lll}\n",
       " TRAT & REP & PESO\\\\\n",
       " <chr> & <int> & <int>\\\\\n",
       "\\hline\n",
       "\t A & 1 & 54\\\\\n",
       "\t A & 2 & 40\\\\\n",
       "\t A & 3 & 51\\\\\n",
       "\t A & 4 & 36\\\\\n",
       "\t A & 5 & 50\\\\\n",
       "\t A & 6 & 48\\\\\n",
       "\t B & 1 & 60\\\\\n",
       "\t B & 2 & 55\\\\\n",
       "\t B & 3 & 66\\\\\n",
       "\t B & 4 & 61\\\\\n",
       "\t B & 5 & 54\\\\\n",
       "\t B & 6 & 61\\\\\n",
       "\t C & 1 & 59\\\\\n",
       "\t C & 2 & 47\\\\\n",
       "\t C & 3 & 44\\\\\n",
       "\t C & 4 & 49\\\\\n",
       "\t C & 5 & 62\\\\\n",
       "\t C & 6 & 60\\\\\n",
       "\t D & 1 & 45\\\\\n",
       "\t D & 2 & 33\\\\\n",
       "\t D & 3 & 34\\\\\n",
       "\t D & 4 & 48\\\\\n",
       "\t D & 5 & 42\\\\\n",
       "\t D & 6 & 44\\\\\n",
       "\\end{tabular}\n"
      ],
      "text/markdown": [
       "\n",
       "A data.frame: 24 × 3\n",
       "\n",
       "| TRAT &lt;chr&gt; | REP &lt;int&gt; | PESO &lt;int&gt; |\n",
       "|---|---|---|\n",
       "| A | 1 | 54 |\n",
       "| A | 2 | 40 |\n",
       "| A | 3 | 51 |\n",
       "| A | 4 | 36 |\n",
       "| A | 5 | 50 |\n",
       "| A | 6 | 48 |\n",
       "| B | 1 | 60 |\n",
       "| B | 2 | 55 |\n",
       "| B | 3 | 66 |\n",
       "| B | 4 | 61 |\n",
       "| B | 5 | 54 |\n",
       "| B | 6 | 61 |\n",
       "| C | 1 | 59 |\n",
       "| C | 2 | 47 |\n",
       "| C | 3 | 44 |\n",
       "| C | 4 | 49 |\n",
       "| C | 5 | 62 |\n",
       "| C | 6 | 60 |\n",
       "| D | 1 | 45 |\n",
       "| D | 2 | 33 |\n",
       "| D | 3 | 34 |\n",
       "| D | 4 | 48 |\n",
       "| D | 5 | 42 |\n",
       "| D | 6 | 44 |\n",
       "\n"
      ],
      "text/plain": [
       "   TRAT REP PESO\n",
       "1  A    1   54  \n",
       "2  A    2   40  \n",
       "3  A    3   51  \n",
       "4  A    4   36  \n",
       "5  A    5   50  \n",
       "6  A    6   48  \n",
       "7  B    1   60  \n",
       "8  B    2   55  \n",
       "9  B    3   66  \n",
       "10 B    4   61  \n",
       "11 B    5   54  \n",
       "12 B    6   61  \n",
       "13 C    1   59  \n",
       "14 C    2   47  \n",
       "15 C    3   44  \n",
       "16 C    4   49  \n",
       "17 C    5   62  \n",
       "18 C    6   60  \n",
       "19 D    1   45  \n",
       "20 D    2   33  \n",
       "21 D    3   34  \n",
       "22 D    4   48  \n",
       "23 D    5   42  \n",
       "24 D    6   44  "
      ]
     },
     "metadata": {},
     "output_type": "display_data"
    }
   ],
   "source": [
    "# setwd(\"C:\\\\Users\\\\jarde\\\\Documents\\\\Experimentação em Ciência Animal\\\\Análises Estatísticas\\\\Dados_R\")\n",
    "dados=read.table(\"DIC_02.txt\",h=T)\n",
    "dados"
   ]
  },
  {
   "cell_type": "markdown",
   "id": "77df481b-c885-40d9-9059-8c88faea5a6c",
   "metadata": {},
   "source": [
    "Tá achando a quantidade de informações apresentadas muito grande? A função **head** permite a visualização de parte do conteúdo da variável **dados**."
   ]
  },
  {
   "cell_type": "code",
   "execution_count": 4,
   "id": "df7a525c-a617-472c-ac73-cada419f6f5a",
   "metadata": {},
   "outputs": [
    {
     "data": {
      "text/html": [
       "<table class=\"dataframe\">\n",
       "<caption>A data.frame: 6 × 3</caption>\n",
       "<thead>\n",
       "\t<tr><th></th><th scope=col>TRAT</th><th scope=col>REP</th><th scope=col>PESO</th></tr>\n",
       "\t<tr><th></th><th scope=col>&lt;chr&gt;</th><th scope=col>&lt;int&gt;</th><th scope=col>&lt;int&gt;</th></tr>\n",
       "</thead>\n",
       "<tbody>\n",
       "\t<tr><th scope=row>1</th><td>A</td><td>1</td><td>54</td></tr>\n",
       "\t<tr><th scope=row>2</th><td>A</td><td>2</td><td>40</td></tr>\n",
       "\t<tr><th scope=row>3</th><td>A</td><td>3</td><td>51</td></tr>\n",
       "\t<tr><th scope=row>4</th><td>A</td><td>4</td><td>36</td></tr>\n",
       "\t<tr><th scope=row>5</th><td>A</td><td>5</td><td>50</td></tr>\n",
       "\t<tr><th scope=row>6</th><td>A</td><td>6</td><td>48</td></tr>\n",
       "</tbody>\n",
       "</table>\n"
      ],
      "text/latex": [
       "A data.frame: 6 × 3\n",
       "\\begin{tabular}{r|lll}\n",
       "  & TRAT & REP & PESO\\\\\n",
       "  & <chr> & <int> & <int>\\\\\n",
       "\\hline\n",
       "\t1 & A & 1 & 54\\\\\n",
       "\t2 & A & 2 & 40\\\\\n",
       "\t3 & A & 3 & 51\\\\\n",
       "\t4 & A & 4 & 36\\\\\n",
       "\t5 & A & 5 & 50\\\\\n",
       "\t6 & A & 6 & 48\\\\\n",
       "\\end{tabular}\n"
      ],
      "text/markdown": [
       "\n",
       "A data.frame: 6 × 3\n",
       "\n",
       "| <!--/--> | TRAT &lt;chr&gt; | REP &lt;int&gt; | PESO &lt;int&gt; |\n",
       "|---|---|---|---|\n",
       "| 1 | A | 1 | 54 |\n",
       "| 2 | A | 2 | 40 |\n",
       "| 3 | A | 3 | 51 |\n",
       "| 4 | A | 4 | 36 |\n",
       "| 5 | A | 5 | 50 |\n",
       "| 6 | A | 6 | 48 |\n",
       "\n"
      ],
      "text/plain": [
       "  TRAT REP PESO\n",
       "1 A    1   54  \n",
       "2 A    2   40  \n",
       "3 A    3   51  \n",
       "4 A    4   36  \n",
       "5 A    5   50  \n",
       "6 A    6   48  "
      ]
     },
     "metadata": {},
     "output_type": "display_data"
    }
   ],
   "source": [
    "head(dados)"
   ]
  },
  {
   "cell_type": "markdown",
   "id": "bfeb61e3-c363-4a5f-b8d5-d75665fbd073",
   "metadata": {},
   "source": [
    "..."
   ]
  },
  {
   "cell_type": "code",
   "execution_count": 5,
   "id": "c24a7051-4b8a-4f5b-8014-5e25cde84e71",
   "metadata": {},
   "outputs": [
    {
     "name": "stdout",
     "output_type": "stream",
     "text": [
      "------------------------------------------------------------------------\n",
      "Quadro da analise de variancia\n",
      "------------------------------------------------------------------------\n",
      "           GL     SQ     QM     Fc      Pr>Fc\n",
      "Tratamento  3 1174.1 391.38 9.4707 0.00042323\n",
      "Residuo    20  826.5  41.33                  \n",
      "Total      23 2000.6                         \n",
      "------------------------------------------------------------------------\n",
      "CV = 12.82 %\n",
      "\n",
      "------------------------------------------------------------------------\n",
      "Teste de normalidade dos residuos ( Shapiro-Wilk ) \n",
      "Valor-p:  0.05518708 \n",
      "De acordo com o teste de Shapiro-Wilk a 5% de significancia, os residuos podem ser considerados normais.\n",
      "------------------------------------------------------------------------\n",
      "\n",
      "------------------------------------------------------------------------\n",
      "Teste de homogeneidade de variancia \n",
      "valor-p:  0.6910359 \n",
      "De acordo com o teste de bartlett a 5% de significancia, as variancias podem ser consideradas homogeneas.\n",
      "------------------------------------------------------------------------\n",
      "\n",
      "Teste de Student-Newman-Keuls (SNK)\n",
      "------------------------------------------------------------------------\n",
      "Grupos  Tratamentos  Medias\n",
      "a \t B \t     59.5 \n",
      "ab \t C \t     53.5 \n",
      " bc \t A \t     46.5 \n",
      "  c \t D \t     41 \n",
      "------------------------------------------------------------------------\n"
     ]
    }
   ],
   "source": [
    "dic(dados$TRAT, dados$PESO, quali = TRUE, mcomp = \"snk\", sigT = 0.01, sigF = 0.01)\n",
    "#quali=TRUE para dados qualitativos ou quali=FALSE são asumidos quantitativos "
   ]
  },
  {
   "cell_type": "code",
   "execution_count": 6,
   "id": "1fdaa6e9-aaa4-40ad-b215-be17c9b08243",
   "metadata": {},
   "outputs": [],
   "source": [
    "###############################################################\n",
    "#outras opções de comparações multiplas########################\n",
    "###############################################################"
   ]
  },
  {
   "cell_type": "code",
   "execution_count": 6,
   "id": "17ce7278-4d31-473d-81a4-acd93d0d4214",
   "metadata": {},
   "outputs": [
    {
     "name": "stdout",
     "output_type": "stream",
     "text": [
      "------------------------------------------------------------------------\n",
      "Quadro da analise de variancia\n",
      "------------------------------------------------------------------------\n",
      "           GL     SQ     QM     Fc      Pr>Fc\n",
      "Tratamento  3 1174.1 391.38 9.4707 0.00042323\n",
      "Residuo    20  826.5  41.33                  \n",
      "Total      23 2000.6                         \n",
      "------------------------------------------------------------------------\n",
      "CV = 12.82 %\n",
      "\n",
      "------------------------------------------------------------------------\n",
      "Teste de normalidade dos residuos ( Shapiro-Wilk ) \n",
      "Valor-p:  0.05518708 \n",
      "De acordo com o teste de Shapiro-Wilk a 5% de significancia, os residuos podem ser considerados normais.\n",
      "------------------------------------------------------------------------\n",
      "\n",
      "------------------------------------------------------------------------\n",
      "Teste de homogeneidade de variancia \n",
      "valor-p:  0.6910359 \n",
      "De acordo com o teste de bartlett a 5% de significancia, as variancias podem ser consideradas homogeneas.\n",
      "------------------------------------------------------------------------\n",
      "\n",
      "Teste de Scott-Knott\n",
      "------------------------------------------------------------------------\n",
      "  Grupos Tratamentos Medias\n",
      "1      a           B   59.5\n",
      "2      a           C   53.5\n",
      "3      b           A   46.5\n",
      "4      b           D   41.0\n",
      "------------------------------------------------------------------------\n"
     ]
    }
   ],
   "source": [
    "dic(dados$TRAT, dados$PESO, quali = TRUE, mcomp = \"sk\", sigT = 0.05, sigF = 0.05)"
   ]
  },
  {
   "cell_type": "code",
   "execution_count": 7,
   "id": "70a5a38a-2dc2-4a4f-8b65-663c9119a713",
   "metadata": {},
   "outputs": [
    {
     "name": "stdout",
     "output_type": "stream",
     "text": [
      "------------------------------------------------------------------------\n",
      "Quadro da analise de variancia\n",
      "------------------------------------------------------------------------\n",
      "           GL     SQ     QM     Fc      Pr>Fc\n",
      "Tratamento  3 1174.1 391.38 9.4707 0.00042323\n",
      "Residuo    20  826.5  41.33                  \n",
      "Total      23 2000.6                         \n",
      "------------------------------------------------------------------------\n",
      "CV = 12.82 %\n",
      "\n",
      "------------------------------------------------------------------------\n",
      "Teste de normalidade dos residuos ( Shapiro-Wilk ) \n",
      "Valor-p:  0.05518708 \n",
      "De acordo com o teste de Shapiro-Wilk a 5% de significancia, os residuos podem ser considerados normais.\n",
      "------------------------------------------------------------------------\n",
      "\n",
      "------------------------------------------------------------------------\n",
      "Teste de homogeneidade de variancia \n",
      "valor-p:  0.6910359 \n",
      "De acordo com o teste de bartlett a 5% de significancia, as variancias podem ser consideradas homogeneas.\n",
      "------------------------------------------------------------------------\n",
      "\n",
      "Teste t de Bonferroni (LSD protegido)\n",
      "------------------------------------------------------------------------\n",
      "Grupos  Tratamentos  Medias\n",
      "a \t B \t 59.5 \n",
      "ab \t C \t 53.5 \n",
      " bc \t A \t 46.5 \n",
      "  c \t D \t 41 \n",
      "------------------------------------------------------------------------\n"
     ]
    }
   ],
   "source": [
    "dic(dados$TRAT, dados$PESO, quali = TRUE, mcomp = \"lsdb\", sigT = 0.05, sigF = 0.05)#teste t protegido de Bonferroni"
   ]
  },
  {
   "cell_type": "code",
   "execution_count": null,
   "id": "799b2568-99af-4245-9131-73cadc642233",
   "metadata": {
    "tags": []
   },
   "outputs": [],
   "source": [
    "ccboot(dados$PESO, dados$TRAT, 15, 0.8425, alpha = 0.05, group = TRUE, main = NULL, B = 5000)\n",
    "#método de comparações múltiplas por bootstrap"
   ]
  }
 ],
 "metadata": {
  "kernelspec": {
   "display_name": "R",
   "language": "R",
   "name": "ir"
  },
  "language_info": {
   "codemirror_mode": "r",
   "file_extension": ".r",
   "mimetype": "text/x-r-source",
   "name": "R",
   "pygments_lexer": "r",
   "version": "4.2.0"
  }
 },
 "nbformat": 4,
 "nbformat_minor": 5
}
