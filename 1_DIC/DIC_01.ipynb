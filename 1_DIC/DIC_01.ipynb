{
 "cells": [
  {
   "cell_type": "markdown",
   "id": "005e939f-60ea-46b0-9e35-3548cf45a023",
   "metadata": {
    "tags": []
   },
   "source": [
    "# Delineamento Inteiramente Casualizado - DIC\n",
    "Aula 02 - Exemplo 01\n",
    "\n",
    "__OBJETIVO__\n",
    "\n",
    "Demonstrar como utilizar o pacote **agricolae** para fazer a casualização de experimentos executados em **DIC**."
   ]
  },
  {
   "cell_type": "markdown",
   "id": "aa2cf1b9-9961-432c-8352-bfae116ddfd8",
   "metadata": {},
   "source": [
    "Inicialmente, você deve importar o pacote **acricolae**. Somente assim será possível utilizar as funções (comandos) disponilizados pelo pacote. Mais informações em: https://cran.r-project.org/web/packages/agricolae/agricolae.pdf"
   ]
  },
  {
   "cell_type": "code",
   "execution_count": 4,
   "id": "54a21ffd-e815-4051-bec9-03897b3d9122",
   "metadata": {
    "collapsed": true,
    "jupyter": {
     "outputs_hidden": true
    },
    "tags": []
   },
   "outputs": [
    {
     "name": "stderr",
     "output_type": "stream",
     "text": [
      "Warning message in download.file(url, destfile, method, mode = \"wb\", ...):\n",
      "“downloaded length 458752 != reported length 576139”\n",
      "Warning message in download.file(url, destfile, method, mode = \"wb\", ...):\n",
      "“URL 'https://cran.r-project.org/src/contrib/agricolae_1.3-6.tar.gz': Timeout of 60 seconds was reached”\n"
     ]
    },
    {
     "name": "stdout",
     "output_type": "stream",
     "text": [
      "Error in download.file(url, destfile, method, mode = \"wb\", ...) : \n",
      "  download from 'https://cran.r-project.org/src/contrib/agricolae_1.3-6.tar.gz' failed\n"
     ]
    },
    {
     "name": "stderr",
     "output_type": "stream",
     "text": [
      "Warning message in download.packages(pkgs, destdir = tmpd, available = available, :\n",
      "“download of package ‘agricolae’ failed”\n"
     ]
    }
   ],
   "source": [
    "install.packages(\"agricolae\", dependencies = TRUE)\n",
    "require(agricolae)"
   ]
  },
  {
   "cell_type": "markdown",
   "id": "99824665-40d2-43d0-a442-451d6da00342",
   "metadata": {},
   "source": [
    "Considerando que o objetivo é demonstrar como fazer a casualização de experimentos executas em DIC, você precisa informar quais são **tratamentos** serão aplicados e quantas **repetições** serão realizadas. No exemplo abaixo: \n",
    "\n",
    "* A variável **trt** representa os tratamentos e foi inicializada por meio da função **LETTERS**, que no caso em questão cria uma lista de letrar começando do A (1) até o E (5)\n",
    "* A variável **r** representa as repetições e foi inicializada com o valor 4."
   ]
  },
  {
   "cell_type": "code",
   "execution_count": 12,
   "id": "a60157ca-7db8-4abd-bee4-7d31c74dd715",
   "metadata": {},
   "outputs": [
    {
     "data": {
      "text/html": [
       "<style>\n",
       ".list-inline {list-style: none; margin:0; padding: 0}\n",
       ".list-inline>li {display: inline-block}\n",
       ".list-inline>li:not(:last-child)::after {content: \"\\00b7\"; padding: 0 .5ex}\n",
       "</style>\n",
       "<ol class=list-inline><li>'A'</li><li>'B'</li><li>'C'</li><li>'D'</li><li>'E'</li></ol>\n"
      ],
      "text/latex": [
       "\\begin{enumerate*}\n",
       "\\item 'A'\n",
       "\\item 'B'\n",
       "\\item 'C'\n",
       "\\item 'D'\n",
       "\\item 'E'\n",
       "\\end{enumerate*}\n"
      ],
      "text/markdown": [
       "1. 'A'\n",
       "2. 'B'\n",
       "3. 'C'\n",
       "4. 'D'\n",
       "5. 'E'\n",
       "\n",
       "\n"
      ],
      "text/plain": [
       "[1] \"A\" \"B\" \"C\" \"D\" \"E\""
      ]
     },
     "metadata": {},
     "output_type": "display_data"
    }
   ],
   "source": [
    "trt = LETTERS[1:5]\n",
    "trt"
   ]
  },
  {
   "cell_type": "code",
   "execution_count": 13,
   "id": "cd4e99c4-37b5-45d6-8a84-a0fb3d1310dd",
   "metadata": {},
   "outputs": [
    {
     "data": {
      "text/html": [
       "4"
      ],
      "text/latex": [
       "4"
      ],
      "text/markdown": [
       "4"
      ],
      "text/plain": [
       "[1] 4"
      ]
     },
     "metadata": {},
     "output_type": "display_data"
    }
   ],
   "source": [
    "r <- 4\n",
    "r"
   ]
  },
  {
   "cell_type": "markdown",
   "id": "2eeb3db9-4a2c-4c4d-b269-4d80e1e77e23",
   "metadata": {},
   "source": [
    "De posse das informações necessárias para a casualização, a função **design** (que faz parte do pacote **agricolae**) faz a randomização do experimento com base nas variáveis criadas acima: **trt** e **r**."
   ]
  },
  {
   "cell_type": "code",
   "execution_count": 14,
   "id": "bae2e9f3-8069-4182-aba6-2859af377c35",
   "metadata": {},
   "outputs": [
    {
     "data": {
      "text/html": [
       "<dl>\n",
       "\t<dt>$parameters</dt>\n",
       "\t\t<dd><dl>\n",
       "\t<dt>$design</dt>\n",
       "\t\t<dd>'crd'</dd>\n",
       "\t<dt>$trt</dt>\n",
       "\t\t<dd><style>\n",
       ".list-inline {list-style: none; margin:0; padding: 0}\n",
       ".list-inline>li {display: inline-block}\n",
       ".list-inline>li:not(:last-child)::after {content: \"\\00b7\"; padding: 0 .5ex}\n",
       "</style>\n",
       "<ol class=list-inline><li>'A'</li><li>'B'</li><li>'C'</li><li>'D'</li><li>'E'</li></ol>\n",
       "</dd>\n",
       "\t<dt>$r</dt>\n",
       "\t\t<dd><style>\n",
       ".list-inline {list-style: none; margin:0; padding: 0}\n",
       ".list-inline>li {display: inline-block}\n",
       ".list-inline>li:not(:last-child)::after {content: \"\\00b7\"; padding: 0 .5ex}\n",
       "</style>\n",
       "<ol class=list-inline><li>4</li><li>4</li><li>4</li><li>4</li><li>4</li></ol>\n",
       "</dd>\n",
       "\t<dt>$serie</dt>\n",
       "\t\t<dd>2</dd>\n",
       "\t<dt>$seed</dt>\n",
       "\t\t<dd>-780006507</dd>\n",
       "\t<dt>$kinds</dt>\n",
       "\t\t<dd>'Super-Duper'</dd>\n",
       "\t<dt>[[7]]</dt>\n",
       "\t\t<dd>TRUE</dd>\n",
       "</dl>\n",
       "</dd>\n",
       "\t<dt>$book</dt>\n",
       "\t\t<dd><table class=\"dataframe\">\n",
       "<caption>A data.frame: 20 × 3</caption>\n",
       "<thead>\n",
       "\t<tr><th></th><th scope=col>plots</th><th scope=col>r</th><th scope=col>trt</th></tr>\n",
       "\t<tr><th></th><th scope=col>&lt;dbl&gt;</th><th scope=col>&lt;int&gt;</th><th scope=col>&lt;chr&gt;</th></tr>\n",
       "</thead>\n",
       "<tbody>\n",
       "\t<tr><th scope=row>1</th><td>101</td><td>1</td><td>D</td></tr>\n",
       "\t<tr><th scope=row>2</th><td>102</td><td>1</td><td>A</td></tr>\n",
       "\t<tr><th scope=row>3</th><td>103</td><td>1</td><td>C</td></tr>\n",
       "\t<tr><th scope=row>4</th><td>104</td><td>2</td><td>D</td></tr>\n",
       "\t<tr><th scope=row>5</th><td>105</td><td>2</td><td>C</td></tr>\n",
       "\t<tr><th scope=row>6</th><td>106</td><td>2</td><td>A</td></tr>\n",
       "\t<tr><th scope=row>7</th><td>107</td><td>1</td><td>E</td></tr>\n",
       "\t<tr><th scope=row>8</th><td>108</td><td>1</td><td>B</td></tr>\n",
       "\t<tr><th scope=row>9</th><td>109</td><td>3</td><td>D</td></tr>\n",
       "\t<tr><th scope=row>10</th><td>110</td><td>4</td><td>D</td></tr>\n",
       "\t<tr><th scope=row>11</th><td>111</td><td>2</td><td>E</td></tr>\n",
       "\t<tr><th scope=row>12</th><td>112</td><td>2</td><td>B</td></tr>\n",
       "\t<tr><th scope=row>13</th><td>113</td><td>3</td><td>A</td></tr>\n",
       "\t<tr><th scope=row>14</th><td>114</td><td>3</td><td>E</td></tr>\n",
       "\t<tr><th scope=row>15</th><td>115</td><td>4</td><td>E</td></tr>\n",
       "\t<tr><th scope=row>16</th><td>116</td><td>3</td><td>C</td></tr>\n",
       "\t<tr><th scope=row>17</th><td>117</td><td>3</td><td>B</td></tr>\n",
       "\t<tr><th scope=row>18</th><td>118</td><td>4</td><td>C</td></tr>\n",
       "\t<tr><th scope=row>19</th><td>119</td><td>4</td><td>B</td></tr>\n",
       "\t<tr><th scope=row>20</th><td>120</td><td>4</td><td>A</td></tr>\n",
       "</tbody>\n",
       "</table>\n",
       "</dd>\n",
       "</dl>\n"
      ],
      "text/latex": [
       "\\begin{description}\n",
       "\\item[\\$parameters] \\begin{description}\n",
       "\\item[\\$design] 'crd'\n",
       "\\item[\\$trt] \\begin{enumerate*}\n",
       "\\item 'A'\n",
       "\\item 'B'\n",
       "\\item 'C'\n",
       "\\item 'D'\n",
       "\\item 'E'\n",
       "\\end{enumerate*}\n",
       "\n",
       "\\item[\\$r] \\begin{enumerate*}\n",
       "\\item 4\n",
       "\\item 4\n",
       "\\item 4\n",
       "\\item 4\n",
       "\\item 4\n",
       "\\end{enumerate*}\n",
       "\n",
       "\\item[\\$serie] 2\n",
       "\\item[\\$seed] -780006507\n",
       "\\item[\\$kinds] 'Super-Duper'\n",
       "\\item[{[[7]]}] TRUE\n",
       "\\end{description}\n",
       "\n",
       "\\item[\\$book] A data.frame: 20 × 3\n",
       "\\begin{tabular}{r|lll}\n",
       "  & plots & r & trt\\\\\n",
       "  & <dbl> & <int> & <chr>\\\\\n",
       "\\hline\n",
       "\t1 & 101 & 1 & D\\\\\n",
       "\t2 & 102 & 1 & A\\\\\n",
       "\t3 & 103 & 1 & C\\\\\n",
       "\t4 & 104 & 2 & D\\\\\n",
       "\t5 & 105 & 2 & C\\\\\n",
       "\t6 & 106 & 2 & A\\\\\n",
       "\t7 & 107 & 1 & E\\\\\n",
       "\t8 & 108 & 1 & B\\\\\n",
       "\t9 & 109 & 3 & D\\\\\n",
       "\t10 & 110 & 4 & D\\\\\n",
       "\t11 & 111 & 2 & E\\\\\n",
       "\t12 & 112 & 2 & B\\\\\n",
       "\t13 & 113 & 3 & A\\\\\n",
       "\t14 & 114 & 3 & E\\\\\n",
       "\t15 & 115 & 4 & E\\\\\n",
       "\t16 & 116 & 3 & C\\\\\n",
       "\t17 & 117 & 3 & B\\\\\n",
       "\t18 & 118 & 4 & C\\\\\n",
       "\t19 & 119 & 4 & B\\\\\n",
       "\t20 & 120 & 4 & A\\\\\n",
       "\\end{tabular}\n",
       "\n",
       "\\end{description}\n"
      ],
      "text/markdown": [
       "$parameters\n",
       ":   $design\n",
       ":   'crd'\n",
       "$trt\n",
       ":   1. 'A'\n",
       "2. 'B'\n",
       "3. 'C'\n",
       "4. 'D'\n",
       "5. 'E'\n",
       "\n",
       "\n",
       "\n",
       "$r\n",
       ":   1. 4\n",
       "2. 4\n",
       "3. 4\n",
       "4. 4\n",
       "5. 4\n",
       "\n",
       "\n",
       "\n",
       "$serie\n",
       ":   2\n",
       "$seed\n",
       ":   -780006507\n",
       "$kinds\n",
       ":   'Super-Duper'\n",
       "[[7]]\n",
       ":   TRUE\n",
       "\n",
       "\n",
       "\n",
       "$book\n",
       ":   \n",
       "A data.frame: 20 × 3\n",
       "\n",
       "| <!--/--> | plots &lt;dbl&gt; | r &lt;int&gt; | trt &lt;chr&gt; |\n",
       "|---|---|---|---|\n",
       "| 1 | 101 | 1 | D |\n",
       "| 2 | 102 | 1 | A |\n",
       "| 3 | 103 | 1 | C |\n",
       "| 4 | 104 | 2 | D |\n",
       "| 5 | 105 | 2 | C |\n",
       "| 6 | 106 | 2 | A |\n",
       "| 7 | 107 | 1 | E |\n",
       "| 8 | 108 | 1 | B |\n",
       "| 9 | 109 | 3 | D |\n",
       "| 10 | 110 | 4 | D |\n",
       "| 11 | 111 | 2 | E |\n",
       "| 12 | 112 | 2 | B |\n",
       "| 13 | 113 | 3 | A |\n",
       "| 14 | 114 | 3 | E |\n",
       "| 15 | 115 | 4 | E |\n",
       "| 16 | 116 | 3 | C |\n",
       "| 17 | 117 | 3 | B |\n",
       "| 18 | 118 | 4 | C |\n",
       "| 19 | 119 | 4 | B |\n",
       "| 20 | 120 | 4 | A |\n",
       "\n",
       "\n",
       "\n",
       "\n"
      ],
      "text/plain": [
       "$parameters\n",
       "$parameters$design\n",
       "[1] \"crd\"\n",
       "\n",
       "$parameters$trt\n",
       "[1] \"A\" \"B\" \"C\" \"D\" \"E\"\n",
       "\n",
       "$parameters$r\n",
       "[1] 4 4 4 4 4\n",
       "\n",
       "$parameters$serie\n",
       "[1] 2\n",
       "\n",
       "$parameters$seed\n",
       "[1] -780006507\n",
       "\n",
       "$parameters$kinds\n",
       "[1] \"Super-Duper\"\n",
       "\n",
       "$parameters[[7]]\n",
       "[1] TRUE\n",
       "\n",
       "\n",
       "$book\n",
       "   plots r trt\n",
       "1    101 1   D\n",
       "2    102 1   A\n",
       "3    103 1   C\n",
       "4    104 2   D\n",
       "5    105 2   C\n",
       "6    106 2   A\n",
       "7    107 1   E\n",
       "8    108 1   B\n",
       "9    109 3   D\n",
       "10   110 4   D\n",
       "11   111 2   E\n",
       "12   112 2   B\n",
       "13   113 3   A\n",
       "14   114 3   E\n",
       "15   115 4   E\n",
       "16   116 3   C\n",
       "17   117 3   B\n",
       "18   118 4   C\n",
       "19   119 4   B\n",
       "20   120 4   A\n"
      ]
     },
     "metadata": {},
     "output_type": "display_data"
    }
   ],
   "source": [
    "crd <- design.crd(trt, r)\n",
    "crd"
   ]
  }
 ],
 "metadata": {
  "kernelspec": {
   "display_name": "R",
   "language": "R",
   "name": "ir"
  },
  "language_info": {
   "codemirror_mode": "r",
   "file_extension": ".r",
   "mimetype": "text/x-r-source",
   "name": "R",
   "pygments_lexer": "r",
   "version": "4.2.0"
  }
 },
 "nbformat": 4,
 "nbformat_minor": 5
}
