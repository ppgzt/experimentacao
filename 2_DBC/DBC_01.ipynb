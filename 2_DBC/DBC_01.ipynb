{
 "cells": [
  {
   "cell_type": "markdown",
   "id": "b7d7f1a7-56d3-4dba-93b7-48b848bf9e8f",
   "metadata": {},
   "source": [
    "# Delineamento em Blocos Casualizados - DBC \n",
    "\n",
    "Aula 03 - Exemplo 01\n",
    "\n",
    "__OBJETIVO__\n",
    "\n",
    "..."
   ]
  },
  {
   "cell_type": "code",
   "execution_count": 17,
   "id": "6a330c7d-69a8-41d5-b400-e5b50d387e5e",
   "metadata": {},
   "outputs": [
    {
     "name": "stderr",
     "output_type": "stream",
     "text": [
      "Updating HTML index of packages in '.Library'\n",
      "\n",
      "Making 'packages.html' ...\n",
      " done\n",
      "\n"
     ]
    }
   ],
   "source": [
    "install.packages(\"ExpDes.pt\", dependencies = TRUE) #instala pacotes e dependentes##\n",
    "require(ExpDes.pt)"
   ]
  },
  {
   "cell_type": "code",
   "execution_count": 9,
   "id": "1ac778b0-b4cd-4bf3-a4c7-ede4d7f03a83",
   "metadata": {},
   "outputs": [
    {
     "data": {
      "text/html": [
       "<table class=\"dataframe\">\n",
       "<caption>A data.frame: 6 × 1</caption>\n",
       "<thead>\n",
       "\t<tr><th></th><th scope=col>TRAT.REP.PESO</th></tr>\n",
       "\t<tr><th></th><th scope=col>&lt;chr&gt;</th></tr>\n",
       "</thead>\n",
       "<tbody>\n",
       "\t<tr><th scope=row>1</th><td>T1 1 5.3</td></tr>\n",
       "\t<tr><th scope=row>2</th><td>T1 2 5.2</td></tr>\n",
       "\t<tr><th scope=row>3</th><td>T1 3 5.5</td></tr>\n",
       "\t<tr><th scope=row>4</th><td>T1 4 4.9</td></tr>\n",
       "\t<tr><th scope=row>5</th><td>T2 1 2.3</td></tr>\n",
       "\t<tr><th scope=row>6</th><td>T2 2 4  </td></tr>\n",
       "</tbody>\n",
       "</table>\n"
      ],
      "text/latex": [
       "A data.frame: 6 × 1\n",
       "\\begin{tabular}{r|l}\n",
       "  & TRAT.REP.PESO\\\\\n",
       "  & <chr>\\\\\n",
       "\\hline\n",
       "\t1 & T1 1 5.3\\\\\n",
       "\t2 & T1 2 5.2\\\\\n",
       "\t3 & T1 3 5.5\\\\\n",
       "\t4 & T1 4 4.9\\\\\n",
       "\t5 & T2 1 2.3\\\\\n",
       "\t6 & T2 2 4  \\\\\n",
       "\\end{tabular}\n"
      ],
      "text/markdown": [
       "\n",
       "A data.frame: 6 × 1\n",
       "\n",
       "| <!--/--> | TRAT.REP.PESO &lt;chr&gt; |\n",
       "|---|---|\n",
       "| 1 | T1 1 5.3 |\n",
       "| 2 | T1 2 5.2 |\n",
       "| 3 | T1 3 5.5 |\n",
       "| 4 | T1 4 4.9 |\n",
       "| 5 | T2 1 2.3 |\n",
       "| 6 | T2 2 4   |\n",
       "\n"
      ],
      "text/plain": [
       "  TRAT.REP.PESO\n",
       "1 T1 1 5.3     \n",
       "2 T1 2 5.2     \n",
       "3 T1 3 5.5     \n",
       "4 T1 4 4.9     \n",
       "5 T2 1 2.3     \n",
       "6 T2 2 4       "
      ]
     },
     "metadata": {},
     "output_type": "display_data"
    }
   ],
   "source": [
    "dados <- read.table(file = \"clipboard\", sep = \"\\t\", header=TRUE)\n",
    "head(dados)"
   ]
  },
  {
   "cell_type": "code",
   "execution_count": 10,
   "id": "588bd6f5-6309-454d-810d-491de644b17b",
   "metadata": {},
   "outputs": [
    {
     "data": {
      "text/html": [
       "<style>\n",
       ".list-inline {list-style: none; margin:0; padding: 0}\n",
       ".list-inline>li {display: inline-block}\n",
       ".list-inline>li:not(:last-child)::after {content: \"\\00b7\"; padding: 0 .5ex}\n",
       "</style>\n",
       "<ol class=list-inline><li>T1 1 5.3</li><li>T1 2 5.2</li><li>T1 3 5.5</li><li>T1 4 4.9</li><li>T2 1 2.3</li><li>T2 2 4 </li><li>T2 3 5</li><li>T2 4 6</li></ol>\n",
       "\n",
       "<details>\n",
       "\t<summary style=display:list-item;cursor:pointer>\n",
       "\t\t<strong>Levels</strong>:\n",
       "\t</summary>\n",
       "\t<style>\n",
       "\t.list-inline {list-style: none; margin:0; padding: 0}\n",
       "\t.list-inline>li {display: inline-block}\n",
       "\t.list-inline>li:not(:last-child)::after {content: \"\\00b7\"; padding: 0 .5ex}\n",
       "\t</style>\n",
       "\t<ol class=list-inline><li>'T1 1 5.3'</li><li>'T1 2 5.2'</li><li>'T1 3 5.5'</li><li>'T1 4 4.9'</li><li>'T2 1 2.3'</li><li>'T2 2 4 '</li><li>'T2 3 5'</li><li>'T2 4 6'</li></ol>\n",
       "</details>"
      ],
      "text/latex": [
       "\\begin{enumerate*}\n",
       "\\item T1 1 5.3\n",
       "\\item T1 2 5.2\n",
       "\\item T1 3 5.5\n",
       "\\item T1 4 4.9\n",
       "\\item T2 1 2.3\n",
       "\\item T2 2 4 \n",
       "\\item T2 3 5\n",
       "\\item T2 4 6\n",
       "\\end{enumerate*}\n",
       "\n",
       "\\emph{Levels}: \\begin{enumerate*}\n",
       "\\item 'T1 1 5.3'\n",
       "\\item 'T1 2 5.2'\n",
       "\\item 'T1 3 5.5'\n",
       "\\item 'T1 4 4.9'\n",
       "\\item 'T2 1 2.3'\n",
       "\\item 'T2 2 4 '\n",
       "\\item 'T2 3 5'\n",
       "\\item 'T2 4 6'\n",
       "\\end{enumerate*}\n"
      ],
      "text/markdown": [
       "1. T1 1 5.3\n",
       "2. T1 2 5.2\n",
       "3. T1 3 5.5\n",
       "4. T1 4 4.9\n",
       "5. T2 1 2.3\n",
       "6. T2 2 4 \n",
       "7. T2 3 5\n",
       "8. T2 4 6\n",
       "\n",
       "\n",
       "\n",
       "**Levels**: 1. 'T1 1 5.3'\n",
       "2. 'T1 2 5.2'\n",
       "3. 'T1 3 5.5'\n",
       "4. 'T1 4 4.9'\n",
       "5. 'T2 1 2.3'\n",
       "6. 'T2 2 4 '\n",
       "7. 'T2 3 5'\n",
       "8. 'T2 4 6'\n",
       "\n",
       "\n"
      ],
      "text/plain": [
       "[1] T1 1 5.3 T1 2 5.2 T1 3 5.5 T1 4 4.9 T2 1 2.3 T2 2 4   T2 3 5   T2 4 6  \n",
       "8 Levels: T1 1 5.3 T1 2 5.2 T1 3 5.5 T1 4 4.9 T2 1 2.3 T2 2 4  ... T2 4 6"
      ]
     },
     "metadata": {},
     "output_type": "display_data"
    },
    {
     "data": {
      "text/plain": [
       "NULL"
      ]
     },
     "metadata": {},
     "output_type": "display_data"
    }
   ],
   "source": [
    "trat =factor(dados$TRAT)\n",
    "trat"
   ]
  },
  {
   "cell_type": "code",
   "execution_count": null,
   "id": "5ad32675-e614-4d18-9db8-341188497766",
   "metadata": {},
   "outputs": [],
   "source": [
    "bloco=factor(dados$BLOC)"
   ]
  },
  {
   "cell_type": "code",
   "execution_count": 13,
   "id": "9b97100d-44dd-4b4b-abd3-dfbf14c4f22e",
   "metadata": {},
   "outputs": [
    {
     "name": "stderr",
     "output_type": "stream",
     "text": [
      "also installing the dependency ‘stargazer’\n",
      "\n",
      "\n",
      "Updating HTML index of packages in '.Library'\n",
      "\n",
      "Making 'packages.html' ...\n",
      " done\n",
      "\n",
      "Loading required package: ExpDes.pt\n",
      "\n"
     ]
    }
   ],
   "source": [
    "y=dados$y;y"
   ]
  },
  {
   "cell_type": "code",
   "execution_count": 15,
   "id": "9b50b4c3-776b-4ad0-9e85-4a47c67bdcb4",
   "metadata": {},
   "outputs": [
    {
     "ename": "ERROR",
     "evalue": "Error in model.frame.default(formula = resp ~ Trat + Bloco, drop.unused.levels = TRUE): invalid type (NULL) for variable 'resp'\n",
     "output_type": "error",
     "traceback": [
      "Error in model.frame.default(formula = resp ~ Trat + Bloco, drop.unused.levels = TRUE): invalid type (NULL) for variable 'resp'\nTraceback:\n",
      "1. dbc(trat, bloco, y, quali = TRUE, mcomp = \"snk\", sigT = 0.05, \n .     sigF = 0.05)",
      "2. aov(resp ~ Trat + Bloco)",
      "3. eval(lmcall, parent.frame())",
      "4. eval(lmcall, parent.frame())",
      "5. stats::lm(formula = resp ~ Trat + Bloco, singular.ok = TRUE)",
      "6. eval(mf, parent.frame())",
      "7. eval(mf, parent.frame())",
      "8. stats::model.frame(formula = resp ~ Trat + Bloco, drop.unused.levels = TRUE)",
      "9. model.frame.default(formula = resp ~ Trat + Bloco, drop.unused.levels = TRUE)"
     ]
    }
   ],
   "source": [
    "dbc(trat, bloco, y, quali = TRUE, mcomp = \"snk\", sigT = 0.05, sigF = 0.05)"
   ]
  },
  {
   "cell_type": "code",
   "execution_count": null,
   "id": "7ecac630-3324-49c1-b89a-348b7e9a4e8a",
   "metadata": {},
   "outputs": [],
   "source": [
    "############ANOVA COM DADOS DESBALANCEADO##########################################################\n",
    "trat=factor(dados$TRAT)\n",
    "bloco=factor(dados$BLOC)\n",
    "y=dados$y\n",
    "y\n",
    "modelo<-lm(y~bloco+trat) #fazendo a ANOVA\n",
    "# As infer�ncias acima so passam ser valiadas apos confirmacao de nao\n",
    "# haver afastamento dos pressupostos\n",
    "par(mfrow = c(2, 2))\n",
    "plot(modelo)\n",
    "layout(1)\n",
    "anova(modelo) #exibe o quadro da ANOVA\n",
    "res_stud = rstudent(modelo);res_stud # homogeneidade de variancias: teste Hartley ou Fmax.\n",
    "\n",
    "###########################################################################\n",
    "#OBS.: TESTE DE HARTLEY (F MaXIMO)                                        #\n",
    "    Fc = Maior var / Menor var (Pimentel Gomes, 1987 )                    #\n",
    " Se Fc > 10 entao variancias sao heterogeneas                             #\n",
    "###########################################################################\n",
    "## (1) Teste de homogeneidade de variancias - F-maxino de Hartley\n",
    "var.res= tapply(res_stud,dados$TRAT,var); var.res\n",
    "Fmaximo=max(var.res)/min(var.res); Fmaximo #<10 variancias homogeneas\n",
    "\n",
    "residuo=resid(modelo)\n",
    "shapiro.test(residuo) #teste de normalidade Shapiro-wilk\n",
    "\n",
    "library(asbio)    \n",
    "tukey.add.test(y, trat, bloco)  # teste de aditividade do modelo\n",
    "\n",
    "####'agricolae'######## \n",
    "require(agricolae)\n",
    "glr <- df.residual(modelo);glr    # graus de liberdade do Res�duo\n",
    "qmr <- deviance(modelo)/glr;qmr   # Quadrado medio do Reseduo\n",
    "\n",
    "# teste de SNK (Student-Newman-Keuls)\n",
    "d<-with(dados,SNK.test(y, trat, bloco,DFerror=glr, MSerror=qmr, alpha=0.05,group=T));d\n",
    "\n",
    "######Calcula p-valor para teste F#############\n",
    "pval <- pf(50.154, 2, glr, lower=F);pval"
   ]
  },
  {
   "cell_type": "code",
   "execution_count": null,
   "id": "5a0c2687-418d-4885-a706-da83f4fd89ef",
   "metadata": {},
   "outputs": [],
   "source": [
    "#quali=TRUE para tratamentos qualitativos ou quali=FALSE sao asumidos quantitativos \n",
    "\n",
    "###############################################################\n",
    "#outras opcoes de comparacoes multiplas########################\n",
    "###############################################################\n",
    "\n",
    "dbc(dados$TRAT, dados$BLOC, dados$Y, quali = TRUE, mcomp = \"snk\", sigT = 0.05, sigF = 0.05)\n",
    "\n",
    "dbc(dados$TRAT, dados$BLOC, dados$Y, quali = TRUE, mcomp = \"duncan\", sigT = 0.05, sigF = 0.05)\n",
    "\n",
    "dbc(dados$TRAT, dados$BLOC, dados$Y, quali = TRUE, mcomp = \"lsdb\", sigT = 0.05, sigF = 0.05)"
   ]
  },
  {
   "cell_type": "code",
   "execution_count": null,
   "id": "5a469201-1bae-4800-b067-17286392f5e5",
   "metadata": {},
   "outputs": [],
   "source": [
    "#teste t protegido de Bonferroni\n",
    "\n",
    "ccboot(dados$Y, dados$TRAT, 18, 1512.6, alpha = 0.05, group = TRUE, main = NULL, B = 1000)\n",
    "#metodo de comparacoes multiplas por bootstrap"
   ]
  }
 ],
 "metadata": {
  "kernelspec": {
   "display_name": "R",
   "language": "R",
   "name": "ir"
  },
  "language_info": {
   "codemirror_mode": "r",
   "file_extension": ".r",
   "mimetype": "text/x-r-source",
   "name": "R",
   "pygments_lexer": "r",
   "version": "4.2.0"
  }
 },
 "nbformat": 4,
 "nbformat_minor": 5
}
